{
 "metadata": {
  "language_info": {
   "codemirror_mode": {
    "name": "ipython",
    "version": 3
   },
   "file_extension": ".py",
   "mimetype": "text/x-python",
   "name": "python",
   "nbconvert_exporter": "python",
   "pygments_lexer": "ipython3",
   "version": "3.8.2"
  },
  "orig_nbformat": 4,
  "kernelspec": {
   "name": "python3",
   "display_name": "Python 3.8.2 64-bit"
  },
  "interpreter": {
   "hash": "aee8b7b246df8f9039afb4144a1f6fd8d2ca17a180786b69acc140d282b71a49"
  }
 },
 "nbformat": 4,
 "nbformat_minor": 2,
 "cells": [
  {
   "cell_type": "code",
   "execution_count": 1,
   "metadata": {},
   "outputs": [],
   "source": [
    "from pyspark.context import SparkContext\n",
    "from pyspark.sql.session import SparkSession\n",
    "sc = SparkContext('local')\n",
    "spark = SparkSession(sc)\n",
    "\n",
    "import pyspark.sql.functions as F"
   ]
  },
  {
   "cell_type": "code",
   "execution_count": 13,
   "metadata": {},
   "outputs": [],
   "source": [
    "df_lan_macs = spark.read.csv('updated_lan_macs.csv', header = True, inferSchema = True, sep = \",\", nullValue = '') "
   ]
  },
  {
   "cell_type": "code",
   "execution_count": 26,
   "metadata": {},
   "outputs": [],
   "source": [
    "import os\n",
    "\n",
    "allLines = []\n",
    "columns_to_drop = []\n",
    "path = 'WiFi_CIR/'\n",
    "fileList = os.listdir(path)\n",
    "for f in fileList:\n",
    "    df_wifi = spark.read.csv('Wifi_CIR/{}'.format(f), header=True, inferSchema=True, sep=\",\", nanValue='', nullValue='')\n",
    "    df_wifi = df_wifi.na.replace('No', None)\n",
    "\n",
    "    df = df_wifi.join(df_lan_macs, 'SERIAL_NO', 'left').fillna('').drop(*columns_to_drop)\n",
    "    df.toPandas().to_csv(\"Updated \" + f)\n",
    "\n",
    "\n"
   ]
  },
  {
   "cell_type": "code",
   "execution_count": null,
   "metadata": {},
   "outputs": [],
   "source": []
  }
 ]
}